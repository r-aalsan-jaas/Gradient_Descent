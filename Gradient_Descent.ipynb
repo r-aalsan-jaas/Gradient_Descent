{
  "nbformat": 4,
  "nbformat_minor": 0,
  "metadata": {
    "colab": {
      "provenance": []
    },
    "kernelspec": {
      "name": "python3",
      "display_name": "Python 3"
    },
    "language_info": {
      "name": "python"
    }
  },
  "cells": [
    {
      "cell_type": "code",
      "execution_count": 18,
      "metadata": {
        "id": "24q1uN41AqqB"
      },
      "outputs": [],
      "source": [
        "import numpy as np"
      ]
    },
    {
      "cell_type": "code",
      "source": [
        "a = float(input(\"Enter the coefficent - a : \"))\n",
        "b = float(input(\"Enter the coefficent - b : \"))\n",
        "c = float(input(\"Enter the coefficent - c : \"))\n",
        "d = float(input(\"Enter the coefficent - d : \"))"
      ],
      "metadata": {
        "colab": {
          "base_uri": "https://localhost:8080/"
        },
        "id": "aTcKSEMVA0fO",
        "outputId": "bcfcd883-4e03-4712-bd12-7a3cfcd97489"
      },
      "execution_count": 19,
      "outputs": [
        {
          "name": "stdout",
          "output_type": "stream",
          "text": [
            "Enter the coefficent - a : 1\n",
            "Enter the coefficent - b : -4\n",
            "Enter the coefficent - c : -3\n",
            "Enter the coefficent - d : 6\n"
          ]
        }
      ]
    },
    {
      "cell_type": "code",
      "source": [
        "x = np.random.rand()\n",
        "\n",
        "learning_rate = .01\n",
        "epochs =100"
      ],
      "metadata": {
        "id": "yZejRyt_A5Fk"
      },
      "execution_count": 20,
      "outputs": []
    },
    {
      "cell_type": "code",
      "source": [
        "for epoch in range(epochs):\n",
        "  value = a*x**3 + b*x**2 + d*x +c\n",
        "  gradient  = 3*a *x**2 + 2*b*x+c\n",
        "\n",
        "  if gradient < -1:\n",
        "    gradient =0\n",
        "    x -=  learning_rate *gradient"
      ],
      "metadata": {
        "id": "Dzhg2s77A_RC"
      },
      "execution_count": 21,
      "outputs": []
    },
    {
      "cell_type": "code",
      "source": [
        "print(f\"The solution for x is approximately : {x}\")"
      ],
      "metadata": {
        "colab": {
          "base_uri": "https://localhost:8080/"
        },
        "id": "Daq64SRvBH5v",
        "outputId": "c2704db4-981d-4c4a-ca66-8e499b2dbf24"
      },
      "execution_count": 22,
      "outputs": [
        {
          "output_type": "stream",
          "name": "stdout",
          "text": [
            "The solution for x is approximately : 0.6288534987835351\n"
          ]
        }
      ]
    }
  ]
}